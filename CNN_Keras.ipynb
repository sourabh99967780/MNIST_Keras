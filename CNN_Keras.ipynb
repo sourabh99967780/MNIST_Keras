{
 "cells": [
  {
   "cell_type": "code",
   "execution_count": 1,
   "metadata": {},
   "outputs": [
    {
     "name": "stderr",
     "output_type": "stream",
     "text": [
      "Using TensorFlow backend.\n"
     ]
    }
   ],
   "source": [
    "from keras.models import Sequential\n",
    "from keras.layers import Conv2D, MaxPooling2D, Flatten, Dense, Dropout\n",
    "from keras.utils import to_categorical\n",
    "import matplotlib.pyplot as plt"
   ]
  },
  {
   "cell_type": "code",
   "execution_count": 2,
   "metadata": {},
   "outputs": [],
   "source": [
    "# We will be using Sequential model with Convolution layer, Dense Layer and MaxPooling layer\n",
    "model = Sequential()"
   ]
  },
  {
   "cell_type": "code",
   "execution_count": 3,
   "metadata": {},
   "outputs": [
    {
     "name": "stdout",
     "output_type": "stream",
     "text": [
      "WARNING:tensorflow:From C:\\ProgramData\\Anaconda3\\lib\\site-packages\\tensorflow\\python\\framework\\op_def_library.py:263: colocate_with (from tensorflow.python.framework.ops) is deprecated and will be removed in a future version.\n",
      "Instructions for updating:\n",
      "Colocations handled automatically by placer.\n",
      "WARNING:tensorflow:From C:\\ProgramData\\Anaconda3\\lib\\site-packages\\keras\\backend\\tensorflow_backend.py:3445: calling dropout (from tensorflow.python.ops.nn_ops) with keep_prob is deprecated and will be removed in a future version.\n",
      "Instructions for updating:\n",
      "Please use `rate` instead of `keep_prob`. Rate should be set to `rate = 1 - keep_prob`.\n"
     ]
    }
   ],
   "source": [
    "# Preprocessing\n",
    "model.add(Conv2D(32,kernel_size=(3,3),activation = \"relu\", padding=\"SAME\", input_shape = (28,28,1)))\n",
    "model.add(MaxPooling2D(pool_size=(2,2), padding = \"SAME\"))\n",
    "model.add(Conv2D(64,kernel_size=(3,3), activation = \"relu\", padding=\"SAME\"))\n",
    "model.add(MaxPooling2D(pool_size=(2,2), padding = \"SAME\"))\n",
    "model.add(Dropout(0.25))\n",
    "model.add(Flatten())\n",
    "model.add(Dropout(0.5))\n",
    "model.add(Dense(128, activation=\"relu\"))\n",
    "model.add(Dense(10, activation = \"softmax\"))"
   ]
  },
  {
   "cell_type": "code",
   "execution_count": 4,
   "metadata": {},
   "outputs": [],
   "source": [
    "model.compile(optimizer=\"adam\", loss=\"binary_crossentropy\", metrics=['accuracy'])"
   ]
  },
  {
   "cell_type": "code",
   "execution_count": 5,
   "metadata": {},
   "outputs": [],
   "source": [
    "# data extraction part\n",
    "from keras.datasets import mnist\n",
    "(x_train, y_train), (x_test, y_test) = mnist.load_data()\n",
    "y_train = to_categorical(y_train, 10)\n",
    "y_test = to_categorical(y_test, 10)\n",
    "x_train = x_train.reshape(x_train.shape[0],28,28,1)\n",
    "x_test = x_test.reshape(x_test.shape[0], 28, 28, 1)"
   ]
  },
  {
   "cell_type": "code",
   "execution_count": 6,
   "metadata": {},
   "outputs": [
    {
     "data": {
      "text/plain": [
       "((60000, 28, 28, 1), (60000, 10), (10000, 28, 28, 1), (10000, 10))"
      ]
     },
     "execution_count": 6,
     "metadata": {},
     "output_type": "execute_result"
    }
   ],
   "source": [
    "x_train.shape, y_train.shape, x_test.shape, y_test.shape"
   ]
  },
  {
   "cell_type": "code",
   "execution_count": 7,
   "metadata": {},
   "outputs": [
    {
     "name": "stdout",
     "output_type": "stream",
     "text": [
      "WARNING:tensorflow:From C:\\ProgramData\\Anaconda3\\lib\\site-packages\\tensorflow\\python\\ops\\math_ops.py:3066: to_int32 (from tensorflow.python.ops.math_ops) is deprecated and will be removed in a future version.\n",
      "Instructions for updating:\n",
      "Use tf.cast instead.\n",
      "Train on 60000 samples, validate on 10000 samples\n",
      "Epoch 1/20\n",
      "60000/60000 [==============================] - 9s 155us/step - loss: 0.2154 - acc: 0.9685 - val_loss: 0.0165 - val_acc: 0.9941\n",
      "Epoch 2/20\n",
      "60000/60000 [==============================] - 7s 109us/step - loss: 0.0274 - acc: 0.9906 - val_loss: 0.0104 - val_acc: 0.9963\n",
      "Epoch 3/20\n",
      "60000/60000 [==============================] - 6s 107us/step - loss: 0.0198 - acc: 0.9932 - val_loss: 0.0091 - val_acc: 0.9968\n",
      "Epoch 4/20\n",
      "60000/60000 [==============================] - 6s 105us/step - loss: 0.0161 - acc: 0.9945 - val_loss: 0.0067 - val_acc: 0.9975\n",
      "Epoch 5/20\n",
      "60000/60000 [==============================] - 6s 106us/step - loss: 0.0137 - acc: 0.9954 - val_loss: 0.0077 - val_acc: 0.9975\n",
      "Epoch 6/20\n",
      "60000/60000 [==============================] - 6s 105us/step - loss: 0.0132 - acc: 0.9956 - val_loss: 0.0062 - val_acc: 0.9977\n",
      "Epoch 7/20\n",
      "60000/60000 [==============================] - 6s 105us/step - loss: 0.0116 - acc: 0.9962 - val_loss: 0.0064 - val_acc: 0.9978\n",
      "Epoch 8/20\n",
      "60000/60000 [==============================] - 6s 107us/step - loss: 0.0106 - acc: 0.9963 - val_loss: 0.0061 - val_acc: 0.9979\n",
      "Epoch 9/20\n",
      "60000/60000 [==============================] - 6s 106us/step - loss: 0.0105 - acc: 0.9964 - val_loss: 0.0065 - val_acc: 0.9976\n",
      "Epoch 10/20\n",
      "60000/60000 [==============================] - 6s 107us/step - loss: 0.0099 - acc: 0.9967 - val_loss: 0.0066 - val_acc: 0.9977\n",
      "Epoch 11/20\n",
      "60000/60000 [==============================] - 7s 124us/step - loss: 0.0089 - acc: 0.9971 - val_loss: 0.0053 - val_acc: 0.9982\n",
      "Epoch 12/20\n",
      "60000/60000 [==============================] - 7s 113us/step - loss: 0.0091 - acc: 0.9969 - val_loss: 0.0054 - val_acc: 0.9981\n",
      "Epoch 13/20\n",
      "60000/60000 [==============================] - 6s 108us/step - loss: 0.0083 - acc: 0.9972 - val_loss: 0.0057 - val_acc: 0.9982\n",
      "Epoch 14/20\n",
      "60000/60000 [==============================] - 7s 110us/step - loss: 0.0073 - acc: 0.9975 - val_loss: 0.0054 - val_acc: 0.9983\n",
      "Epoch 15/20\n",
      "60000/60000 [==============================] - 7s 111us/step - loss: 0.0077 - acc: 0.9974 - val_loss: 0.0055 - val_acc: 0.9983\n",
      "Epoch 16/20\n",
      "60000/60000 [==============================] - 6s 108us/step - loss: 0.0078 - acc: 0.9973 - val_loss: 0.0067 - val_acc: 0.9977\n",
      "Epoch 17/20\n",
      "60000/60000 [==============================] - 6s 107us/step - loss: 0.0072 - acc: 0.9975 - val_loss: 0.0055 - val_acc: 0.9982\n",
      "Epoch 18/20\n",
      "60000/60000 [==============================] - 6s 108us/step - loss: 0.0071 - acc: 0.9976 - val_loss: 0.0061 - val_acc: 0.9981\n",
      "Epoch 19/20\n",
      "60000/60000 [==============================] - 7s 109us/step - loss: 0.0070 - acc: 0.9977 - val_loss: 0.0054 - val_acc: 0.9983\n",
      "Epoch 20/20\n",
      "60000/60000 [==============================] - 7s 111us/step - loss: 0.0067 - acc: 0.9978 - val_loss: 0.0050 - val_acc: 0.9984\n"
     ]
    }
   ],
   "source": [
    "history = model.fit(x_train, y_train, batch_size=128, epochs=20, validation_data=(x_test,y_test))"
   ]
  },
  {
   "cell_type": "code",
   "execution_count": 8,
   "metadata": {},
   "outputs": [
    {
     "data": {
      "image/png": "[encoded data removed]",
      "text/plain": [
       "<Figure size 432x288 with 1 Axes>"
      ]
     },
     "metadata": {
      "needs_background": "light"
     },
     "output_type": "display_data"
    }
   ],
   "source": [
    "plt.plot(history.history['acc'])\n",
    "plt.plot(history.history['val_acc'])\n",
    "plt.title('model_accuracy')\n",
    "plt.ylabel(\"accuracy\")\n",
    "plt.xlabel(\"epochs\")\n",
    "plt.legend(['train', 'test'], loc = \"lower right\")\n",
    "plt.show()"
   ]
  },
  {
   "cell_type": "code",
   "execution_count": 9,
   "metadata": {},
   "outputs": [
    {
     "data": {
      "image/png": "[encoded data removed]",
      "text/plain": [
       "<Figure size 432x288 with 1 Axes>"
      ]
     },
     "metadata": {
      "needs_background": "light"
     },
     "output_type": "display_data"
    }
   ],
   "source": [
    "plt.plot(history.history['loss'])\n",
    "plt.plot(history.history['val_loss'])\n",
    "plt.title(\"model loss\")\n",
    "plt.xlabel(\"epochs\")\n",
    "plt.ylabel(\"loss\")\n",
    "plt.legend(['train', 'test'], loc = \"upper right\")\n",
    "plt.show()"
   ]
  },
  {
   "cell_type": "code",
   "execution_count": 10,
   "metadata": {},
   "outputs": [
    {
     "name": "stdout",
     "output_type": "stream",
     "text": [
      "10000/10000 [==============================] - 1s 86us/step\n"
     ]
    }
   ],
   "source": [
    "predictions = model.predict(x_test)\n",
    "score = model.evaluate(x_test, y_test)"
   ]
  },
  {
   "cell_type": "code",
   "execution_count": 11,
   "metadata": {},
   "outputs": [
    {
     "data": {
      "text/plain": [
       "[0.0050374322004056015, 0.9984199968338012]"
      ]
     },
     "execution_count": 11,
     "metadata": {},
     "output_type": "execute_result"
    }
   ],
   "source": [
    "score"
   ]
  }
 ],
 "metadata": {
  "kernelspec": {
   "display_name": "Python 3",
   "language": "python",
   "name": "python3"
  },
  "language_info": {
   "codemirror_mode": {
    "name": "ipython",
    "version": 3
   },
   "file_extension": ".py",
   "mimetype": "text/x-python",
   "name": "python",
   "nbconvert_exporter": "python",
   "pygments_lexer": "ipython3",
   "version": "3.7.3"
  }
 },
 "nbformat": 4,
 "nbformat_minor": 2
}
